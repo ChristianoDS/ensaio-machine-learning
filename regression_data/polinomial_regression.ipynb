{
 "cells": [
  {
   "cell_type": "markdown",
   "metadata": {},
   "source": [
    "# Polinomial Regression"
   ]
  },
  {
   "cell_type": "markdown",
   "metadata": {},
   "source": [
    "## Imports"
   ]
  },
  {
   "cell_type": "code",
   "execution_count": 1,
   "metadata": {},
   "outputs": [],
   "source": [
    "import pandas as pd\n",
    "from matplotlib import pyplot as plt\n",
    "from sklearn import metrics as mt\n",
    "from sklearn import linear_model as lm\n",
    "import numpy as np\n",
    "from matplotlib import pyplot as plt\n",
    "from sklearn import preprocessing as pp"
   ]
  },
  {
   "cell_type": "markdown",
   "metadata": {},
   "source": [
    "## Load datasets"
   ]
  },
  {
   "cell_type": "code",
   "execution_count": 2,
   "metadata": {},
   "outputs": [],
   "source": [
    "x_train = pd.read_csv('./X_training.csv')\n",
    "x_test = pd.read_csv('./X_test.csv')\n",
    "x_val = pd.read_csv('./X_validation.csv')\n",
    "y_train = pd.read_csv('./y_training.csv')\n",
    "y_test = pd.read_csv('./y_test.csv')\n",
    "y_val = pd.read_csv('./y_val.csv')\n"
   ]
  },
  {
   "cell_type": "markdown",
   "metadata": {},
   "source": [
    "## Model training"
   ]
  },
  {
   "cell_type": "markdown",
   "metadata": {},
   "source": [
    "### training dataset"
   ]
  },
  {
   "cell_type": "code",
   "execution_count": 3,
   "metadata": {},
   "outputs": [],
   "source": [
    "# polinomial model\n",
    "poly = pp.PolynomialFeatures(degree= 2)\n",
    "\n",
    "# poli fi\n",
    "x_train_poly = poly.fit_transform(x_train)"
   ]
  },
  {
   "cell_type": "code",
   "execution_count": 24,
   "metadata": {},
   "outputs": [],
   "source": [
    "# models\n",
    "\n",
    "# Linear regression\n",
    "lr = lm.LinearRegression()\n",
    "\n",
    "# lasso l1 - tende a zerar os parametros\n",
    "lasso = lm.Lasso(alpha= 1)\n",
    "\n",
    "# ridge l2 - tende a suavizar os parametros\n",
    "ridge = lm.Ridge(alpha= 10)\n",
    "\n",
    "# elasticnet - L1 e L2\n",
    "elastic = lm.ElasticNet(alpha=10)\n",
    "\n",
    "# RANSAC\n",
    "ransac = lm.RANSACRegressor()\n",
    "\n",
    "# fit \n",
    "lr.fit(x_train_poly, y_train)\n",
    "lasso.fit(x_train_poly,y_train)\n",
    "ridge.fit(x_train_poly,y_train)\n",
    "elastic.fit(x_train_poly,y_train)\n",
    "ransac.fit(x_train_poly,y_train)\n",
    "\n",
    "# predict\n",
    "yhat_linear_model = lr.predict(x_train_poly)\n",
    "yhat_lasso = lasso.predict(x_train_poly)\n",
    "yhat_ridge = ridge.predict(x_train_poly)\n",
    "yhat_elastic = elastic.predict(x_train_poly)\n",
    "yhat_ransac = ransac.predict(x_train_poly)"
   ]
  },
  {
   "cell_type": "code",
   "execution_count": 5,
   "metadata": {},
   "outputs": [
    {
     "name": "stdout",
     "output_type": "stream",
     "text": [
      "r2: 0.094\n",
      "mse: 432.986\n",
      "rmse: 20.808\n",
      "mae: 16.458\n",
      "mape: 8.351\n"
     ]
    }
   ],
   "source": [
    "# metrics - linear regression\n",
    "\n",
    "r2_lm = mt.r2_score(y_train, yhat_linear_model)\n",
    "mse_lm = mt.mean_squared_error(y_train, yhat_linear_model)\n",
    "rmse_lm = np.sqrt(mse_lm)\n",
    "mae_lm = mt.mean_absolute_error(y_train, yhat_linear_model)\n",
    "mape_lm = mt.mean_absolute_percentage_error(y_train, yhat_linear_model)\n",
    "print(f'r2: {r2_lm:.3f}')\n",
    "print(f'mse: {mse_lm:.3f}')\n",
    "print(f'rmse: {rmse_lm:.3f}')\n",
    "print(f'mae: {mae_lm:.3f}')\n",
    "print(f'mape: {mape_lm:.3f}')"
   ]
  },
  {
   "cell_type": "code",
   "execution_count": 25,
   "metadata": {},
   "outputs": [
    {
     "name": "stdout",
     "output_type": "stream",
     "text": [
      "r2: 0.009\n",
      "mse: 473.639\n",
      "rmse: 21.763\n",
      "mae: 17.285\n",
      "mape: 8.700\n"
     ]
    }
   ],
   "source": [
    "# metrics - lasso\n",
    "\n",
    "r2_lasso = mt.r2_score(y_train, yhat_lasso)\n",
    "mse_lasso = mt.mean_squared_error(y_train, yhat_lasso)\n",
    "rmse_lasso = np.sqrt(mse_lasso)\n",
    "mae_lasso = mt.mean_absolute_error(y_train, yhat_lasso)\n",
    "mape_lasso = mt.mean_absolute_percentage_error(y_train, yhat_lasso)\n",
    "print(f'r2: {r2_lasso:.3f}')\n",
    "print(f'mse: {mse_lasso:.3f}')\n",
    "print(f'rmse: {rmse_lasso:.3f}')\n",
    "print(f'mae: {mae_lasso:.3f}')\n",
    "print(f'mape: {mape_lasso:.3f}')"
   ]
  },
  {
   "cell_type": "code",
   "execution_count": 7,
   "metadata": {},
   "outputs": [
    {
     "name": "stdout",
     "output_type": "stream",
     "text": [
      "r2: 0.089\n",
      "mse: 435.302\n",
      "rmse: 20.864\n",
      "mae: 16.517\n",
      "mape: 8.416\n"
     ]
    }
   ],
   "source": [
    "# metrics - ridge\n",
    "\n",
    "r2_ridge = mt.r2_score(y_train, yhat_ridge)\n",
    "mse_ridge = mt.mean_squared_error(y_train, yhat_ridge)\n",
    "rmse_ridge = np.sqrt(mse_ridge)\n",
    "mae_ridge = mt.mean_absolute_error(y_train, yhat_ridge)\n",
    "mape_ridge = mt.mean_absolute_percentage_error(y_train, yhat_ridge)\n",
    "print(f'r2: {r2_ridge:.3f}')\n",
    "print(f'mse: {mse_ridge:.3f}')\n",
    "print(f'rmse: {rmse_ridge:.3f}')\n",
    "print(f'mae: {mae_ridge:.3f}')\n",
    "print(f'mape: {mape_ridge:.3f}')"
   ]
  },
  {
   "cell_type": "code",
   "execution_count": 8,
   "metadata": {},
   "outputs": [
    {
     "name": "stdout",
     "output_type": "stream",
     "text": [
      "r2: 0.000\n",
      "mse: 478.013\n",
      "rmse: 21.863\n",
      "mae: 17.365\n",
      "mape: 8.742\n"
     ]
    }
   ],
   "source": [
    "# metrics - elastic net\n",
    "\n",
    "r2_en = mt.r2_score(y_train, yhat_elastic)\n",
    "mse_en = mt.mean_squared_error(y_train, yhat_elastic)\n",
    "rmse_en = np.sqrt(mse_en)\n",
    "mae_en = mt.mean_absolute_error(y_train, yhat_elastic)\n",
    "mape_en = mt.mean_absolute_percentage_error(y_train, yhat_elastic)\n",
    "print(f'r2: {r2_en:.3f}')\n",
    "print(f'mse: {mse_en:.3f}')\n",
    "print(f'rmse: {rmse_en:.3f}')\n",
    "print(f'mae: {mae_en:.3f}')\n",
    "print(f'mape: {mape_en:.3f}')"
   ]
  },
  {
   "cell_type": "code",
   "execution_count": 9,
   "metadata": {},
   "outputs": [
    {
     "name": "stdout",
     "output_type": "stream",
     "text": [
      "r2: -39163130671637.703\n",
      "mse: 18720468349174144.000\n",
      "rmse: 136822762.540\n",
      "mae: 23375889.307\n",
      "mape: 7749900.787\n"
     ]
    }
   ],
   "source": [
    "# metrics - ransac\n",
    "\n",
    "r2_ransac = mt.r2_score(y_train, yhat_ransac)\n",
    "mse_ransac = mt.mean_squared_error(y_train, yhat_ransac)\n",
    "rmse_ransac = np.sqrt(mse_ransac)\n",
    "mae_ransac = mt.mean_absolute_error(y_train, yhat_ransac)\n",
    "mape_ransac = mt.mean_absolute_percentage_error(y_train, yhat_ransac)\n",
    "print(f'r2: {r2_ransac:.3f}')\n",
    "print(f'mse: {mse_ransac:.3f}')\n",
    "print(f'rmse: {rmse_ransac:.3f}')\n",
    "print(f'mae: {mae_ransac:.3f}')\n",
    "print(f'mape: {mape_ransac:.3f}')"
   ]
  },
  {
   "cell_type": "markdown",
   "metadata": {},
   "source": [
    "### Validation dataset"
   ]
  },
  {
   "cell_type": "code",
   "execution_count": 10,
   "metadata": {},
   "outputs": [],
   "source": [
    "# poli fit\n",
    "x_val_poly = poly.fit_transform(x_val)"
   ]
  },
  {
   "cell_type": "code",
   "execution_count": 11,
   "metadata": {},
   "outputs": [],
   "source": [
    "# models\n",
    "# Linear regression\n",
    "lr = lm.LinearRegression()\n",
    "\n",
    "# lasso l1 - tende a zerar os parametros\n",
    "lasso = lm.Lasso(alpha= 1)\n",
    "\n",
    "# ridge l2 - tende a suavizar os parametros\n",
    "ridge = lm.Ridge(alpha= 1)\n",
    "\n",
    "# elasticnet - L1 e L2\n",
    "elastic = lm.ElasticNet(alpha=10)\n",
    "\n",
    "# RANSAC\n",
    "ransac = lm.RANSACRegressor()\n",
    "\n",
    "# fit \n",
    "lr.fit(x_train_poly, y_train)\n",
    "lasso.fit(x_train_poly,y_train)\n",
    "ridge.fit(x_train_poly,y_train)\n",
    "elastic.fit(x_train_poly,y_train)\n",
    "ransac.fit(x_train_poly,y_train)\n",
    "\n",
    "# predict\n",
    "yhat_linear_model = lr.predict(x_val_poly)\n",
    "yhat_lasso = lasso.predict(x_val_poly)\n",
    "yhat_ridge = ridge.predict(x_val_poly)\n",
    "yhat_elastic = elastic.predict(x_val_poly)\n",
    "yhat_ransac = ransac.predict(x_val_poly)\n"
   ]
  },
  {
   "cell_type": "code",
   "execution_count": 12,
   "metadata": {},
   "outputs": [
    {
     "name": "stdout",
     "output_type": "stream",
     "text": [
      "r2: 0.066\n",
      "mse: 445.768\n",
      "rmse: 21.113\n",
      "mae: 16.750\n",
      "mape: 8.548\n"
     ]
    }
   ],
   "source": [
    "# metrics - linear regression\n",
    "\n",
    "r2_lm = mt.r2_score(y_val, yhat_linear_model)\n",
    "mse_lm = mt.mean_squared_error(y_val, yhat_linear_model)\n",
    "rmse_lm = np.sqrt(mse_lm)\n",
    "mae_lm = mt.mean_absolute_error(y_val, yhat_linear_model)\n",
    "mape_lm = mt.mean_absolute_percentage_error(y_val, yhat_linear_model)\n",
    "print(f'r2: {r2_lm:.3f}')\n",
    "print(f'mse: {mse_lm:.3f}')\n",
    "print(f'rmse: {rmse_lm:.3f}')\n",
    "print(f'mae: {mae_lm:.3f}')\n",
    "print(f'mape: {mape_lm:.3f}')"
   ]
  },
  {
   "cell_type": "code",
   "execution_count": 13,
   "metadata": {},
   "outputs": [
    {
     "name": "stdout",
     "output_type": "stream",
     "text": [
      "r2: 0.010\n",
      "mse: 472.913\n",
      "rmse: 21.747\n",
      "mae: 17.238\n",
      "mape: 8.682\n"
     ]
    }
   ],
   "source": [
    "# metrics - lasso\n",
    "\n",
    "r2_lasso = mt.r2_score(y_val, yhat_lasso)\n",
    "mse_lasso = mt.mean_squared_error(y_val, yhat_lasso)\n",
    "rmse_lasso = np.sqrt(mse_lasso)\n",
    "mae_lasso = mt.mean_absolute_error(y_val, yhat_lasso)\n",
    "mape_lasso = mt.mean_absolute_percentage_error(y_val, yhat_lasso)\n",
    "print(f'r2: {r2_lasso:.3f}')\n",
    "print(f'mse: {mse_lasso:.3f}')\n",
    "print(f'rmse: {rmse_lasso:.3f}')\n",
    "print(f'mae: {mae_lasso:.3f}')\n",
    "print(f'mape: {mape_lasso:.3f}')"
   ]
  },
  {
   "cell_type": "code",
   "execution_count": 14,
   "metadata": {},
   "outputs": [
    {
     "name": "stdout",
     "output_type": "stream",
     "text": [
      "r2: 0.068\n",
      "mse: 445.184\n",
      "rmse: 21.099\n",
      "mae: 16.739\n",
      "mape: 8.569\n"
     ]
    }
   ],
   "source": [
    "# metrics - ridge\n",
    "\n",
    "r2_ridge = mt.r2_score(y_val, yhat_ridge)\n",
    "mse_ridge = mt.mean_squared_error(y_val, yhat_ridge)\n",
    "rmse_ridge = np.sqrt(mse_ridge)\n",
    "mae_ridge = mt.mean_absolute_error(y_val, yhat_ridge)\n",
    "mape_ridge = mt.mean_absolute_percentage_error(y_val, yhat_ridge)\n",
    "print(f'r2: {r2_ridge:.3f}')\n",
    "print(f'mse: {mse_ridge:.3f}')\n",
    "print(f'rmse: {rmse_ridge:.3f}')\n",
    "print(f'mae: {mae_ridge:.3f}')\n",
    "print(f'mape: {mape_ridge:.3f}')"
   ]
  },
  {
   "cell_type": "code",
   "execution_count": 15,
   "metadata": {},
   "outputs": [
    {
     "name": "stdout",
     "output_type": "stream",
     "text": [
      "r2: -0.000\n",
      "mse: 477.512\n",
      "rmse: 21.852\n",
      "mae: 17.353\n",
      "mape: 8.679\n"
     ]
    }
   ],
   "source": [
    "# metrics - elastic net\n",
    "\n",
    "r2_en = mt.r2_score(y_val, yhat_elastic)\n",
    "mse_en = mt.mean_squared_error(y_val, yhat_elastic)\n",
    "rmse_en = np.sqrt(mse_en)\n",
    "mae_en = mt.mean_absolute_error(y_val, yhat_elastic)\n",
    "mape_en = mt.mean_absolute_percentage_error(y_val, yhat_elastic)\n",
    "print(f'r2: {r2_en:.3f}')\n",
    "print(f'mse: {mse_en:.3f}')\n",
    "print(f'rmse: {rmse_en:.3f}')\n",
    "print(f'mae: {mae_en:.3f}')\n",
    "print(f'mape: {mape_en:.3f}')"
   ]
  },
  {
   "cell_type": "code",
   "execution_count": 16,
   "metadata": {},
   "outputs": [
    {
     "name": "stdout",
     "output_type": "stream",
     "text": [
      "r2: -42559758960029.188\n",
      "mse: 20322779105484576.000\n",
      "rmse: 142557985.064\n",
      "mae: 23205679.760\n",
      "mape: 1919985.059\n"
     ]
    }
   ],
   "source": [
    "# metrics - ransac\n",
    "\n",
    "r2_ransac = mt.r2_score(y_val, yhat_ransac)\n",
    "mse_ransac = mt.mean_squared_error(y_val, yhat_ransac)\n",
    "rmse_ransac = np.sqrt(mse_ransac)\n",
    "mae_ransac = mt.mean_absolute_error(y_val, yhat_ransac)\n",
    "mape_ransac = mt.mean_absolute_percentage_error(y_val, yhat_ransac)\n",
    "print(f'r2: {r2_ransac:.3f}')\n",
    "print(f'mse: {mse_ransac:.3f}')\n",
    "print(f'rmse: {rmse_ransac:.3f}')\n",
    "print(f'mae: {mae_ransac:.3f}')\n",
    "print(f'mape: {mape_ransac:.3f}')"
   ]
  },
  {
   "cell_type": "markdown",
   "metadata": {},
   "source": [
    "### Test dataset"
   ]
  },
  {
   "cell_type": "code",
   "execution_count": 17,
   "metadata": {},
   "outputs": [],
   "source": [
    "# poli fit\n",
    "x_test_poly = poly.fit_transform(x_test)"
   ]
  },
  {
   "cell_type": "code",
   "execution_count": 18,
   "metadata": {},
   "outputs": [],
   "source": [
    "# model\n",
    "# Linear regression\n",
    "lr = lm.LinearRegression()\n",
    "\n",
    "# lasso l1 - tende a zerar os parametros\n",
    "lasso = lm.Lasso(alpha= 1)\n",
    "\n",
    "# ridge l2 - tende a suavizar os parametros\n",
    "ridge = lm.Ridge(alpha= 1)\n",
    "\n",
    "# elasticnet - L1 e L2\n",
    "elastic = lm.ElasticNet(alpha=1)\n",
    "\n",
    "# RANSAC\n",
    "ransac = lm.RANSACRegressor()\n",
    "\n",
    "# fit \n",
    "lr.fit(np.concatenate((x_train_poly,x_val_poly)),\n",
    "                np.concatenate((y_train,y_val)))\n",
    "lasso.fit(np.concatenate((x_train_poly,x_val_poly)),\n",
    "                np.concatenate((y_train,y_val)))\n",
    "ridge.fit(np.concatenate((x_train_poly,x_val_poly)),\n",
    "                np.concatenate((y_train,y_val)))\n",
    "elastic.fit(np.concatenate((x_train_poly,x_val_poly)),\n",
    "                np.concatenate((y_train,y_val)))\n",
    "ransac.fit(np.concatenate((x_train_poly,x_val_poly)),\n",
    "                np.concatenate((y_train,y_val)))\n",
    "\n",
    "# predict\n",
    "yhat_linear_model = lr.predict(x_test_poly)\n",
    "yhat_lasso = lasso.predict(x_test_poly)\n",
    "yhat_ridge = ridge.predict(x_test_poly)\n",
    "yhat_elastic = elastic.predict(x_test_poly)\n",
    "yhat_ransac = ransac.predict(x_test_poly)"
   ]
  },
  {
   "cell_type": "code",
   "execution_count": 19,
   "metadata": {},
   "outputs": [
    {
     "name": "stdout",
     "output_type": "stream",
     "text": [
      "r2: 0.091\n",
      "mse: 442.641\n",
      "rmse: 21.039\n",
      "mae: 16.736\n",
      "mape: 8.277\n"
     ]
    }
   ],
   "source": [
    "# metrics - linear regression\n",
    "\n",
    "r2_lm = mt.r2_score(y_test, yhat_linear_model)\n",
    "mse_lm = mt.mean_squared_error(y_test, yhat_linear_model)\n",
    "rmse_lm = np.sqrt(mse_lm)\n",
    "mae_lm = mt.mean_absolute_error(y_test, yhat_linear_model)\n",
    "mape_lm = mt.mean_absolute_percentage_error(y_test, yhat_linear_model)\n",
    "print(f'r2: {r2_lm:.3f}')\n",
    "print(f'mse: {mse_lm:.3f}')\n",
    "print(f'rmse: {rmse_lm:.3f}')\n",
    "print(f'mae: {mae_lm:.3f}')\n",
    "print(f'mape: {mape_lm:.3f}')"
   ]
  },
  {
   "cell_type": "code",
   "execution_count": 20,
   "metadata": {},
   "outputs": [
    {
     "name": "stdout",
     "output_type": "stream",
     "text": [
      "r2: 0.009\n",
      "mse: 482.615\n",
      "rmse: 21.968\n",
      "mae: 17.456\n",
      "mape: 8.756\n"
     ]
    }
   ],
   "source": [
    "# metrics - lasso\n",
    "\n",
    "r2_lasso = mt.r2_score(y_test, yhat_lasso)\n",
    "mse_lasso = mt.mean_squared_error(y_test, yhat_lasso)\n",
    "rmse_lasso = np.sqrt(mse_lasso)\n",
    "mae_lasso = mt.mean_absolute_error(y_test, yhat_lasso)\n",
    "mape_lasso = mt.mean_absolute_percentage_error(y_test, yhat_lasso)\n",
    "print(f'r2: {r2_lasso:.3f}')\n",
    "print(f'mse: {mse_lasso:.3f}')\n",
    "print(f'rmse: {rmse_lasso:.3f}')\n",
    "print(f'mae: {mae_lasso:.3f}')\n",
    "print(f'mape: {mape_lasso:.3f}')"
   ]
  },
  {
   "cell_type": "code",
   "execution_count": 21,
   "metadata": {},
   "outputs": [
    {
     "name": "stdout",
     "output_type": "stream",
     "text": [
      "r2: 0.090\n",
      "mse: 442.967\n",
      "rmse: 21.047\n",
      "mae: 16.742\n",
      "mape: 8.309\n"
     ]
    }
   ],
   "source": [
    "# metrics - ridge\n",
    "\n",
    "r2_ridge = mt.r2_score(y_test, yhat_ridge)\n",
    "mse_ridge = mt.mean_squared_error(y_test, yhat_ridge)\n",
    "rmse_ridge = np.sqrt(mse_ridge)\n",
    "mae_ridge = mt.mean_absolute_error(y_test, yhat_ridge)\n",
    "mape_ridge = mt.mean_absolute_percentage_error(y_test, yhat_ridge)\n",
    "print(f'r2: {r2_ridge:.3f}')\n",
    "print(f'mse: {mse_ridge:.3f}')\n",
    "print(f'rmse: {rmse_ridge:.3f}')\n",
    "print(f'mae: {mae_ridge:.3f}')\n",
    "print(f'mape: {mape_ridge:.3f}')"
   ]
  },
  {
   "cell_type": "code",
   "execution_count": 22,
   "metadata": {},
   "outputs": [
    {
     "name": "stdout",
     "output_type": "stream",
     "text": [
      "r2: 0.011\n",
      "mse: 481.537\n",
      "rmse: 21.944\n",
      "mae: 17.427\n",
      "mape: 8.754\n"
     ]
    }
   ],
   "source": [
    "# metrics - elastic net\n",
    "\n",
    "r2_en = mt.r2_score(y_test, yhat_elastic)\n",
    "mse_en = mt.mean_squared_error(y_test, yhat_elastic)\n",
    "rmse_en = np.sqrt(mse_en)\n",
    "mae_en = mt.mean_absolute_error(y_test, yhat_elastic)\n",
    "mape_en = mt.mean_absolute_percentage_error(y_test, yhat_elastic)\n",
    "print(f'r2: {r2_en:.3f}')\n",
    "print(f'mse: {mse_en:.3f}')\n",
    "print(f'rmse: {rmse_en:.3f}')\n",
    "print(f'mae: {mae_en:.3f}')\n",
    "print(f'mape: {mape_en:.3f}')"
   ]
  },
  {
   "cell_type": "code",
   "execution_count": 23,
   "metadata": {},
   "outputs": [
    {
     "name": "stdout",
     "output_type": "stream",
     "text": [
      "r2: -2285001956457.447\n",
      "mse: 1112569682503553.875\n",
      "rmse: 33355204.729\n",
      "mae: 5940580.331\n",
      "mape: 1207725.270\n"
     ]
    }
   ],
   "source": [
    "# metrics - ransac\n",
    "\n",
    "r2_ransac = mt.r2_score(y_test, yhat_ransac)\n",
    "mse_ransac = mt.mean_squared_error(y_test, yhat_ransac)\n",
    "rmse_ransac = np.sqrt(mse_ransac)\n",
    "mae_ransac = mt.mean_absolute_error(y_test, yhat_ransac)\n",
    "mape_ransac = mt.mean_absolute_percentage_error(y_test, yhat_ransac)\n",
    "print(f'r2: {r2_ransac:.3f}')\n",
    "print(f'mse: {mse_ransac:.3f}')\n",
    "print(f'rmse: {rmse_ransac:.3f}')\n",
    "print(f'mae: {mae_ransac:.3f}')\n",
    "print(f'mape: {mape_ransac:.3f}')"
   ]
  }
 ],
 "metadata": {
  "kernelspec": {
   "display_name": "pa_env",
   "language": "python",
   "name": "python3"
  },
  "language_info": {
   "codemirror_mode": {
    "name": "ipython",
    "version": 3
   },
   "file_extension": ".py",
   "mimetype": "text/x-python",
   "name": "python",
   "nbconvert_exporter": "python",
   "pygments_lexer": "ipython3",
   "version": "3.10.13"
  }
 },
 "nbformat": 4,
 "nbformat_minor": 2
}

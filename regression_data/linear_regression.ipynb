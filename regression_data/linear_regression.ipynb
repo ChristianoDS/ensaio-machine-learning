{
 "cells": [
  {
   "cell_type": "markdown",
   "metadata": {},
   "source": [
    "# Linear Regression"
   ]
  },
  {
   "cell_type": "markdown",
   "metadata": {},
   "source": [
    "## Imports"
   ]
  },
  {
   "cell_type": "code",
   "execution_count": 2,
   "metadata": {},
   "outputs": [],
   "source": [
    "import pandas as pd\n",
    "from matplotlib import pyplot as plt\n",
    "from sklearn import metrics as mt\n",
    "from sklearn import linear_model as lm\n",
    "import numpy as np\n",
    "from matplotlib import pyplot as plt"
   ]
  },
  {
   "cell_type": "markdown",
   "metadata": {},
   "source": [
    "## Load datasets"
   ]
  },
  {
   "cell_type": "code",
   "execution_count": 3,
   "metadata": {},
   "outputs": [],
   "source": [
    "x_train = pd.read_csv('./X_training.csv')\n",
    "x_test = pd.read_csv('./X_test.csv')\n",
    "x_val = pd.read_csv('./X_validation.csv')\n",
    "y_train = pd.read_csv('./y_training.csv')\n",
    "y_test = pd.read_csv('./y_test.csv')\n",
    "y_val = pd.read_csv('./y_val.csv')\n"
   ]
  },
  {
   "cell_type": "markdown",
   "metadata": {},
   "source": [
    "## Model training"
   ]
  },
  {
   "cell_type": "markdown",
   "metadata": {},
   "source": [
    "### training dataset"
   ]
  },
  {
   "cell_type": "code",
   "execution_count": 29,
   "metadata": {},
   "outputs": [],
   "source": [
    "# model\n",
    "# Linear regression\n",
    "lr = lm.LinearRegression()\n",
    "\n",
    "# lasso l1 - tende a zerar os parametros\n",
    "lasso = lm.Lasso(alpha= 1)\n",
    "\n",
    "# ridge l2 - tende a suavizar os parametros\n",
    "ridge = lm.Ridge(alpha= 30)\n",
    "\n",
    "# elasticnet - L1 e L2\n",
    "elastic = lm.ElasticNet(alpha=20)\n",
    "\n",
    "# RANSAC\n",
    "ransac = lm.RANSACRegressor()\n",
    "\n",
    "# fit \n",
    "lr.fit(x_train, y_train)\n",
    "lasso.fit(x_train,y_train)\n",
    "ridge.fit(x_train,y_train)\n",
    "elastic.fit(x_train,y_train)\n",
    "ransac.fit(x_train,y_train)\n",
    "\n",
    "# predict\n",
    "yhat_linear_model = lr.predict(x_train)\n",
    "yhat_lasso = lasso.predict(x_train)\n",
    "yhat_ridge = ridge.predict(x_train)\n",
    "yhat_elastic = elastic.predict(x_train)\n",
    "yhat_ransac = ransac.predict(x_train)\n"
   ]
  },
  {
   "cell_type": "code",
   "execution_count": 5,
   "metadata": {},
   "outputs": [
    {
     "data": {
      "text/plain": [
       "array([-0.        , -0.        ,  0.        , -0.        , -0.        ,\n",
       "       -0.        , -0.        ,  1.13019385, -0.        ,  0.        ,\n",
       "       -0.        ,  0.        , -0.        ])"
      ]
     },
     "execution_count": 5,
     "metadata": {},
     "output_type": "execute_result"
    }
   ],
   "source": [
    "lasso.coef_ # observar quando aumenta o alpha no lasso, as colunas que tem menos contribuição tendem a zerar"
   ]
  },
  {
   "cell_type": "code",
   "execution_count": 6,
   "metadata": {},
   "outputs": [
    {
     "data": {
      "text/plain": [
       "array([[-0.21226959, -3.48247681, 12.47457694, -9.38095792, -9.57520963,\n",
       "        -0.88408915, -4.67450296,  2.45434703, -0.24556234, -1.11341609,\n",
       "        -0.43673057,  4.88886295, -8.97049054]])"
      ]
     },
     "execution_count": 6,
     "metadata": {},
     "output_type": "execute_result"
    }
   ],
   "source": [
    "ridge.coef_"
   ]
  },
  {
   "cell_type": "code",
   "execution_count": 7,
   "metadata": {},
   "outputs": [
    {
     "data": {
      "text/plain": [
       "array([[  3.54265312,   3.06874915, -30.82303977, -59.62005817,\n",
       "        -81.83011999, -28.23217877, -10.47091678,   2.44835918,\n",
       "        -14.60016036, 115.08191324,   6.06896222,   0.93945061,\n",
       "         14.82669403]])"
      ]
     },
     "execution_count": 7,
     "metadata": {},
     "output_type": "execute_result"
    }
   ],
   "source": [
    "ransac.estimator_.coef_"
   ]
  },
  {
   "cell_type": "code",
   "execution_count": 8,
   "metadata": {},
   "outputs": [
    {
     "name": "stdout",
     "output_type": "stream",
     "text": [
      "r2: 0.046\n",
      "mse: 455.996\n",
      "rmse: 21.354\n",
      "mae: 16.998\n",
      "mape: 8.653\n"
     ]
    }
   ],
   "source": [
    "# metrics - linear regression\n",
    "\n",
    "r2_lm = mt.r2_score(y_train, yhat_linear_model)\n",
    "mse_lm = mt.mean_squared_error(y_train, yhat_linear_model)\n",
    "rmse_lm = np.sqrt(mse_lm)\n",
    "mae_lm = mt.mean_absolute_error(y_train, yhat_linear_model)\n",
    "mape_lm = mt.mean_absolute_percentage_error(y_train, yhat_linear_model)\n",
    "print(f'r2: {r2_lm:.3f}')\n",
    "print(f'mse: {mse_lm:.3f}')\n",
    "print(f'rmse: {rmse_lm:.3f}')\n",
    "print(f'mae: {mae_lm:.3f}')\n",
    "print(f'mape: {mape_lm:.3f}')"
   ]
  },
  {
   "cell_type": "code",
   "execution_count": 9,
   "metadata": {},
   "outputs": [
    {
     "name": "stdout",
     "output_type": "stream",
     "text": [
      "r2: 0.007\n",
      "mse: 474.475\n",
      "rmse: 21.782\n",
      "mae: 17.305\n",
      "mape: 8.737\n"
     ]
    }
   ],
   "source": [
    "# metrics - lasso\n",
    "\n",
    "r2_lasso = mt.r2_score(y_train, yhat_lasso)\n",
    "mse_lasso = mt.mean_squared_error(y_train, yhat_lasso)\n",
    "rmse_lasso = np.sqrt(mse_lasso)\n",
    "mae_lasso = mt.mean_absolute_error(y_train, yhat_lasso)\n",
    "mape_lasso = mt.mean_absolute_percentage_error(y_train, yhat_lasso)\n",
    "print(f'r2: {r2_lasso:.3f}')\n",
    "print(f'mse: {mse_lasso:.3f}')\n",
    "print(f'rmse: {rmse_lasso:.3f}')\n",
    "print(f'mae: {mae_lasso:.3f}')\n",
    "print(f'mape: {mape_lasso:.3f}')"
   ]
  },
  {
   "cell_type": "code",
   "execution_count": 30,
   "metadata": {},
   "outputs": [
    {
     "name": "stdout",
     "output_type": "stream",
     "text": [
      "r2: 0.046\n",
      "mse: 456.154\n",
      "rmse: 21.358\n",
      "mae: 17.002\n",
      "mape: 8.658\n"
     ]
    }
   ],
   "source": [
    "# metrics - ridge\n",
    "\n",
    "r2_ridge = mt.r2_score(y_train, yhat_ridge)\n",
    "mse_ridge = mt.mean_squared_error(y_train, yhat_ridge)\n",
    "rmse_ridge = np.sqrt(mse_ridge)\n",
    "mae_ridge = mt.mean_absolute_error(y_train, yhat_ridge)\n",
    "mape_ridge = mt.mean_absolute_percentage_error(y_train, yhat_ridge)\n",
    "print(f'r2: {r2_ridge:.3f}')\n",
    "print(f'mse: {mse_ridge:.3f}')\n",
    "print(f'rmse: {rmse_ridge:.3f}')\n",
    "print(f'mae: {mae_ridge:.3f}')\n",
    "print(f'mape: {mape_ridge:.3f}')"
   ]
  },
  {
   "cell_type": "code",
   "execution_count": 31,
   "metadata": {},
   "outputs": [
    {
     "name": "stdout",
     "output_type": "stream",
     "text": [
      "r2: 0.000\n",
      "mse: 478.013\n",
      "rmse: 21.863\n",
      "mae: 17.365\n",
      "mape: 8.742\n"
     ]
    }
   ],
   "source": [
    "# metrics - elastic net\n",
    "\n",
    "r2_en = mt.r2_score(y_train, yhat_elastic)\n",
    "mse_en = mt.mean_squared_error(y_train, yhat_elastic)\n",
    "rmse_en = np.sqrt(mse_en)\n",
    "mae_en = mt.mean_absolute_error(y_train, yhat_elastic)\n",
    "mape_en = mt.mean_absolute_percentage_error(y_train, yhat_elastic)\n",
    "print(f'r2: {r2_en:.3f}')\n",
    "print(f'mse: {mse_en:.3f}')\n",
    "print(f'rmse: {rmse_en:.3f}')\n",
    "print(f'mae: {mae_en:.3f}')\n",
    "print(f'mape: {mape_en:.3f}')"
   ]
  },
  {
   "cell_type": "code",
   "execution_count": 12,
   "metadata": {},
   "outputs": [
    {
     "name": "stdout",
     "output_type": "stream",
     "text": [
      "r2: -1.265\n",
      "mse: 1082.860\n",
      "rmse: 32.907\n",
      "mae: 25.999\n",
      "mape: 9.014\n"
     ]
    }
   ],
   "source": [
    "# metrics - ransac\n",
    "\n",
    "r2_ransac = mt.r2_score(y_train, yhat_ransac)\n",
    "mse_ransac = mt.mean_squared_error(y_train, yhat_ransac)\n",
    "rmse_ransac = np.sqrt(mse_ransac)\n",
    "mae_ransac = mt.mean_absolute_error(y_train, yhat_ransac)\n",
    "mape_ransac = mt.mean_absolute_percentage_error(y_train, yhat_ransac)\n",
    "print(f'r2: {r2_ransac:.3f}')\n",
    "print(f'mse: {mse_ransac:.3f}')\n",
    "print(f'rmse: {rmse_ransac:.3f}')\n",
    "print(f'mae: {mae_ransac:.3f}')\n",
    "print(f'mape: {mape_ransac:.3f}')"
   ]
  },
  {
   "cell_type": "markdown",
   "metadata": {},
   "source": [
    "### Validation dataset"
   ]
  },
  {
   "cell_type": "code",
   "execution_count": 32,
   "metadata": {},
   "outputs": [],
   "source": [
    "# model\n",
    "# Linear regression\n",
    "lr = lm.LinearRegression()\n",
    "\n",
    "# lasso l1 - tende a zerar os parametros\n",
    "lasso = lm.Lasso(alpha= 1)\n",
    "\n",
    "# ridge l2 - tende a suavizar os parametros\n",
    "ridge = lm.Ridge(alpha= 20)\n",
    "\n",
    "# elasticnet - L1 e L2\n",
    "elastic = lm.ElasticNet(alpha=20)\n",
    "\n",
    "# RANSAC\n",
    "ransac = lm.RANSACRegressor()\n",
    "\n",
    "# fit \n",
    "lr.fit(x_train, y_train)\n",
    "lasso.fit(x_train,y_train)\n",
    "ridge.fit(x_train,y_train)\n",
    "elastic.fit(x_train,y_train)\n",
    "ransac.fit(x_train,y_train)\n",
    "\n",
    "# predict\n",
    "yhat_linear_model = lr.predict(x_val)\n",
    "yhat_lasso = lasso.predict(x_val)\n",
    "yhat_ridge = ridge.predict(x_val)\n",
    "yhat_elastic = elastic.predict(x_val)\n",
    "yhat_ransac = ransac.predict(x_val)\n"
   ]
  },
  {
   "cell_type": "code",
   "execution_count": 14,
   "metadata": {},
   "outputs": [
    {
     "name": "stdout",
     "output_type": "stream",
     "text": [
      "r2: 0.040\n",
      "mse: 458.447\n",
      "rmse: 21.411\n",
      "mae: 17.040\n",
      "mape: 8.683\n"
     ]
    }
   ],
   "source": [
    "# metrics - linear regression\n",
    "\n",
    "r2_lm = mt.r2_score(y_val, yhat_linear_model)\n",
    "mse_lm = mt.mean_squared_error(y_val, yhat_linear_model)\n",
    "rmse_lm = np.sqrt(mse_lm)\n",
    "mae_lm = mt.mean_absolute_error(y_val, yhat_linear_model)\n",
    "mape_lm = mt.mean_absolute_percentage_error(y_val, yhat_linear_model)\n",
    "print(f'r2: {r2_lm:.3f}')\n",
    "print(f'mse: {mse_lm:.3f}')\n",
    "print(f'rmse: {rmse_lm:.3f}')\n",
    "print(f'mae: {mae_lm:.3f}')\n",
    "print(f'mape: {mape_lm:.3f}')"
   ]
  },
  {
   "cell_type": "code",
   "execution_count": 33,
   "metadata": {},
   "outputs": [
    {
     "name": "stdout",
     "output_type": "stream",
     "text": [
      "r2: 0.008\n",
      "mse: 473.747\n",
      "rmse: 21.766\n",
      "mae: 17.265\n",
      "mape: 8.696\n"
     ]
    }
   ],
   "source": [
    "# metrics - lasso\n",
    "\n",
    "r2_lasso = mt.r2_score(y_val, yhat_lasso)\n",
    "mse_lasso = mt.mean_squared_error(y_val, yhat_lasso)\n",
    "rmse_lasso = np.sqrt(mse_lasso)\n",
    "mae_lasso = mt.mean_absolute_error(y_val, yhat_lasso)\n",
    "mape_lasso = mt.mean_absolute_percentage_error(y_val, yhat_lasso)\n",
    "print(f'r2: {r2_lasso:.3f}')\n",
    "print(f'mse: {mse_lasso:.3f}')\n",
    "print(f'rmse: {rmse_lasso:.3f}')\n",
    "print(f'mae: {mae_lasso:.3f}')\n",
    "print(f'mape: {mape_lasso:.3f}')"
   ]
  },
  {
   "cell_type": "code",
   "execution_count": 16,
   "metadata": {},
   "outputs": [
    {
     "name": "stdout",
     "output_type": "stream",
     "text": [
      "r2: 0.040\n",
      "mse: 458.453\n",
      "rmse: 21.412\n",
      "mae: 17.036\n",
      "mape: 8.680\n"
     ]
    }
   ],
   "source": [
    "# metrics - ridge\n",
    "\n",
    "r2_ridge = mt.r2_score(y_val, yhat_ridge)\n",
    "mse_ridge = mt.mean_squared_error(y_val, yhat_ridge)\n",
    "rmse_ridge = np.sqrt(mse_ridge)\n",
    "mae_ridge = mt.mean_absolute_error(y_val, yhat_ridge)\n",
    "mape_ridge = mt.mean_absolute_percentage_error(y_val, yhat_ridge)\n",
    "print(f'r2: {r2_ridge:.3f}')\n",
    "print(f'mse: {mse_ridge:.3f}')\n",
    "print(f'rmse: {rmse_ridge:.3f}')\n",
    "print(f'mae: {mae_ridge:.3f}')\n",
    "print(f'mape: {mape_ridge:.3f}')"
   ]
  },
  {
   "cell_type": "code",
   "execution_count": 17,
   "metadata": {},
   "outputs": [
    {
     "name": "stdout",
     "output_type": "stream",
     "text": [
      "r2: -0.000\n",
      "mse: 477.512\n",
      "rmse: 21.852\n",
      "mae: 17.353\n",
      "mape: 8.679\n"
     ]
    }
   ],
   "source": [
    "# metrics - elastic net\n",
    "\n",
    "r2_en = mt.r2_score(y_val, yhat_elastic)\n",
    "mse_en = mt.mean_squared_error(y_val, yhat_elastic)\n",
    "rmse_en = np.sqrt(mse_en)\n",
    "mae_en = mt.mean_absolute_error(y_val, yhat_elastic)\n",
    "mape_en = mt.mean_absolute_percentage_error(y_val, yhat_elastic)\n",
    "print(f'r2: {r2_en:.3f}')\n",
    "print(f'mse: {mse_en:.3f}')\n",
    "print(f'rmse: {rmse_en:.3f}')\n",
    "print(f'mae: {mae_en:.3f}')\n",
    "print(f'mape: {mape_en:.3f}')"
   ]
  },
  {
   "cell_type": "code",
   "execution_count": 18,
   "metadata": {},
   "outputs": [
    {
     "name": "stdout",
     "output_type": "stream",
     "text": [
      "r2: -0.371\n",
      "mse: 654.878\n",
      "rmse: 25.591\n",
      "mae: 19.969\n",
      "mape: 9.483\n"
     ]
    }
   ],
   "source": [
    "# metrics - ransac\n",
    "\n",
    "r2_ransac = mt.r2_score(y_val, yhat_ransac)\n",
    "mse_ransac = mt.mean_squared_error(y_val, yhat_ransac)\n",
    "rmse_ransac = np.sqrt(mse_ransac)\n",
    "mae_ransac = mt.mean_absolute_error(y_val, yhat_ransac)\n",
    "mape_ransac = mt.mean_absolute_percentage_error(y_val, yhat_ransac)\n",
    "print(f'r2: {r2_ransac:.3f}')\n",
    "print(f'mse: {mse_ransac:.3f}')\n",
    "print(f'rmse: {rmse_ransac:.3f}')\n",
    "print(f'mae: {mae_ransac:.3f}')\n",
    "print(f'mape: {mape_ransac:.3f}')"
   ]
  },
  {
   "cell_type": "markdown",
   "metadata": {},
   "source": [
    "### Test dataset"
   ]
  },
  {
   "cell_type": "code",
   "execution_count": 19,
   "metadata": {},
   "outputs": [
    {
     "name": "stderr",
     "output_type": "stream",
     "text": [
      "/home/christianods/.pyenv/versions/3.10.13/envs/pa_env/lib/python3.10/site-packages/sklearn/base.py:486: UserWarning: X has feature names, but LinearRegression was fitted without feature names\n",
      "  warnings.warn(\n",
      "/home/christianods/.pyenv/versions/3.10.13/envs/pa_env/lib/python3.10/site-packages/sklearn/base.py:486: UserWarning: X has feature names, but Lasso was fitted without feature names\n",
      "  warnings.warn(\n",
      "/home/christianods/.pyenv/versions/3.10.13/envs/pa_env/lib/python3.10/site-packages/sklearn/base.py:486: UserWarning: X has feature names, but Ridge was fitted without feature names\n",
      "  warnings.warn(\n",
      "/home/christianods/.pyenv/versions/3.10.13/envs/pa_env/lib/python3.10/site-packages/sklearn/base.py:486: UserWarning: X has feature names, but ElasticNet was fitted without feature names\n",
      "  warnings.warn(\n",
      "/home/christianods/.pyenv/versions/3.10.13/envs/pa_env/lib/python3.10/site-packages/sklearn/base.py:486: UserWarning: X has feature names, but RANSACRegressor was fitted without feature names\n",
      "  warnings.warn(\n"
     ]
    }
   ],
   "source": [
    "# model\n",
    "# Linear regression\n",
    "lr = lm.LinearRegression()\n",
    "\n",
    "# lasso l1 - tende a zerar os parametros\n",
    "lasso = lm.Lasso(alpha= 20)\n",
    "\n",
    "# ridge l2 - tende a suavizar os parametros\n",
    "ridge = lm.Ridge(alpha= 20)\n",
    "\n",
    "# elasticnet - L1 e L2\n",
    "elastic = lm.ElasticNet(alpha=20)\n",
    "\n",
    "# RANSAC\n",
    "ransac = lm.RANSACRegressor()\n",
    "\n",
    "# fit \n",
    "lr.fit(np.concatenate((x_train,x_val)),\n",
    "                np.concatenate((y_train,y_val)))\n",
    "lasso.fit(np.concatenate((x_train,x_val)),\n",
    "                np.concatenate((y_train,y_val)))\n",
    "ridge.fit(np.concatenate((x_train,x_val)),\n",
    "                np.concatenate((y_train,y_val)))\n",
    "elastic.fit(np.concatenate((x_train,x_val)),\n",
    "                np.concatenate((y_train,y_val)))\n",
    "ransac.fit(np.concatenate((x_train,x_val)),\n",
    "                np.concatenate((y_train,y_val)))\n",
    "\n",
    "# predict\n",
    "yhat_linear_model = lr.predict(x_test)\n",
    "yhat_lasso = lasso.predict(x_test)\n",
    "yhat_ridge = ridge.predict(x_test)\n",
    "yhat_elastic = elastic.predict(x_test)\n",
    "yhat_ransac = ransac.predict(x_test)"
   ]
  },
  {
   "cell_type": "code",
   "execution_count": 20,
   "metadata": {},
   "outputs": [
    {
     "name": "stdout",
     "output_type": "stream",
     "text": [
      "r2: 0.051\n",
      "mse: 461.988\n",
      "rmse: 21.494\n",
      "mae: 17.144\n",
      "mape: 8.531\n"
     ]
    }
   ],
   "source": [
    "# metrics - linear regression\n",
    "\n",
    "r2_lm = mt.r2_score(y_test, yhat_linear_model)\n",
    "mse_lm = mt.mean_squared_error(y_test, yhat_linear_model)\n",
    "rmse_lm = np.sqrt(mse_lm)\n",
    "mae_lm = mt.mean_absolute_error(y_test, yhat_linear_model)\n",
    "mape_lm = mt.mean_absolute_percentage_error(y_test, yhat_linear_model)\n",
    "print(f'r2: {r2_lm:.3f}')\n",
    "print(f'mse: {mse_lm:.3f}')\n",
    "print(f'rmse: {rmse_lm:.3f}')\n",
    "print(f'mae: {mae_lm:.3f}')\n",
    "print(f'mape: {mape_lm:.3f}')"
   ]
  },
  {
   "cell_type": "code",
   "execution_count": 21,
   "metadata": {},
   "outputs": [
    {
     "name": "stdout",
     "output_type": "stream",
     "text": [
      "r2: -0.000\n",
      "mse: 486.959\n",
      "rmse: 22.067\n",
      "mae: 17.552\n",
      "mape: 8.714\n"
     ]
    }
   ],
   "source": [
    "# metrics - lasso\n",
    "\n",
    "r2_lasso = mt.r2_score(y_test, yhat_lasso)\n",
    "mse_lasso = mt.mean_squared_error(y_test, yhat_lasso)\n",
    "rmse_lasso = np.sqrt(mse_lasso)\n",
    "mae_lasso = mt.mean_absolute_error(y_test, yhat_lasso)\n",
    "mape_lasso = mt.mean_absolute_percentage_error(y_test, yhat_lasso)\n",
    "print(f'r2: {r2_lasso:.3f}')\n",
    "print(f'mse: {mse_lasso:.3f}')\n",
    "print(f'rmse: {rmse_lasso:.3f}')\n",
    "print(f'mae: {mae_lasso:.3f}')\n",
    "print(f'mape: {mape_lasso:.3f}')"
   ]
  },
  {
   "cell_type": "code",
   "execution_count": 22,
   "metadata": {},
   "outputs": [
    {
     "name": "stdout",
     "output_type": "stream",
     "text": [
      "r2: 0.051\n",
      "mse: 462.064\n",
      "rmse: 21.496\n",
      "mae: 17.142\n",
      "mape: 8.543\n"
     ]
    }
   ],
   "source": [
    "# metrics - ridge\n",
    "\n",
    "r2_ridge = mt.r2_score(y_test, yhat_ridge)\n",
    "mse_ridge = mt.mean_squared_error(y_test, yhat_ridge)\n",
    "rmse_ridge = np.sqrt(mse_ridge)\n",
    "mae_ridge = mt.mean_absolute_error(y_test, yhat_ridge)\n",
    "mape_ridge = mt.mean_absolute_percentage_error(y_test, yhat_ridge)\n",
    "print(f'r2: {r2_ridge:.3f}')\n",
    "print(f'mse: {mse_ridge:.3f}')\n",
    "print(f'rmse: {rmse_ridge:.3f}')\n",
    "print(f'mae: {mae_ridge:.3f}')\n",
    "print(f'mape: {mape_ridge:.3f}')"
   ]
  },
  {
   "cell_type": "code",
   "execution_count": 23,
   "metadata": {},
   "outputs": [
    {
     "name": "stdout",
     "output_type": "stream",
     "text": [
      "r2: -0.000\n",
      "mse: 486.959\n",
      "rmse: 22.067\n",
      "mae: 17.552\n",
      "mape: 8.714\n"
     ]
    }
   ],
   "source": [
    "# metrics - elastic net\n",
    "\n",
    "r2_en = mt.r2_score(y_test, yhat_elastic)\n",
    "mse_en = mt.mean_squared_error(y_test, yhat_elastic)\n",
    "rmse_en = np.sqrt(mse_en)\n",
    "mae_en = mt.mean_absolute_error(y_test, yhat_elastic)\n",
    "mape_en = mt.mean_absolute_percentage_error(y_test, yhat_elastic)\n",
    "print(f'r2: {r2_en:.3f}')\n",
    "print(f'mse: {mse_en:.3f}')\n",
    "print(f'rmse: {rmse_en:.3f}')\n",
    "print(f'mae: {mae_en:.3f}')\n",
    "print(f'mape: {mape_en:.3f}')"
   ]
  },
  {
   "cell_type": "code",
   "execution_count": 24,
   "metadata": {},
   "outputs": [
    {
     "name": "stdout",
     "output_type": "stream",
     "text": [
      "r2: -0.871\n",
      "mse: 910.976\n",
      "rmse: 30.182\n",
      "mae: 23.936\n",
      "mape: 8.904\n"
     ]
    }
   ],
   "source": [
    "# metrics - ransac\n",
    "\n",
    "r2_ransac = mt.r2_score(y_test, yhat_ransac)\n",
    "mse_ransac = mt.mean_squared_error(y_test, yhat_ransac)\n",
    "rmse_ransac = np.sqrt(mse_ransac)\n",
    "mae_ransac = mt.mean_absolute_error(y_test, yhat_ransac)\n",
    "mape_ransac = mt.mean_absolute_percentage_error(y_test, yhat_ransac)\n",
    "print(f'r2: {r2_ransac:.3f}')\n",
    "print(f'mse: {mse_ransac:.3f}')\n",
    "print(f'rmse: {rmse_ransac:.3f}')\n",
    "print(f'mae: {mae_ransac:.3f}')\n",
    "print(f'mape: {mape_ransac:.3f}')"
   ]
  }
 ],
 "metadata": {
  "kernelspec": {
   "display_name": "pa_env",
   "language": "python",
   "name": "python3"
  },
  "language_info": {
   "codemirror_mode": {
    "name": "ipython",
    "version": 3
   },
   "file_extension": ".py",
   "mimetype": "text/x-python",
   "name": "python",
   "nbconvert_exporter": "python",
   "pygments_lexer": "ipython3",
   "version": "3.10.13"
  }
 },
 "nbformat": 4,
 "nbformat_minor": 2
}

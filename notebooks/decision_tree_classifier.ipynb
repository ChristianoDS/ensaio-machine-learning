{
 "cells": [
  {
   "cell_type": "markdown",
   "metadata": {},
   "source": [
    "# Decision Tree Classifier"
   ]
  },
  {
   "cell_type": "markdown",
   "metadata": {},
   "source": [
    "## Imports"
   ]
  },
  {
   "cell_type": "code",
   "execution_count": 6,
   "metadata": {},
   "outputs": [],
   "source": [
    "import pandas as pd\n",
    "from matplotlib import pyplot as plt\n",
    "from sklearn import metrics as mt\n",
    "from sklearn import tree as tr\n",
    "import numpy as np\n"
   ]
  },
  {
   "cell_type": "markdown",
   "metadata": {},
   "source": [
    "## Load datasets"
   ]
  },
  {
   "cell_type": "code",
   "execution_count": 3,
   "metadata": {},
   "outputs": [],
   "source": [
    "x_train = pd.read_csv('./X_training.csv')\n",
    "x_test = pd.read_csv('./X_test.csv')\n",
    "x_val = pd.read_csv('./X_validation.csv')\n",
    "y_train = pd.read_csv('./y_training.csv')\n",
    "y_test = pd.read_csv('./y_test.csv')\n",
    "y_val = pd.read_csv('./y_validation.csv')\n"
   ]
  },
  {
   "cell_type": "markdown",
   "metadata": {},
   "source": [
    "## Model training"
   ]
  },
  {
   "cell_type": "markdown",
   "metadata": {},
   "source": [
    "### training dataset"
   ]
  },
  {
   "cell_type": "code",
   "execution_count": 23,
   "metadata": {},
   "outputs": [
    {
     "name": "stdout",
     "output_type": "stream",
     "text": [
      "acurácia: 1.000 com k = 32.00\n",
      "precision: 1.000 com k = 32.00\n",
      "recall: 1.000 com k = 32.00\n",
      "f1-score: 1.000 com k = 32.00\n"
     ]
    }
   ],
   "source": [
    "## fine tuning\n",
    "\n",
    "best_recall = 0\n",
    "best_pr = 0\n",
    "best_f1 = 0\n",
    "best_acc = 0\n",
    "best_k_f1 = 0\n",
    "best_k_recall = 0\n",
    "best_k_precission = 0\n",
    "best_k_acc = 0\n",
    "for k in range(2,40,1):\n",
    "    # model\n",
    "    tree_model = tr.DecisionTreeClassifier(max_depth = k)\n",
    "\n",
    "    # fit\n",
    "    tree_model.fit(x_train, y_train)\n",
    "\n",
    "    #predict\n",
    "    y_pred_train = tree_model.predict_proba(x_train)[:,1]\n",
    "    precision, recall, thresholds = mt.precision_recall_curve(y_train, y_pred_train)\n",
    "    distances = np.abs(recall-precision) # Em que precision = recall\n",
    "    best_th = thresholds[np.argmin(distances)]\n",
    "    y_pred_train = (y_pred_train >= best_th).astype(int)\n",
    "    acc = mt.accuracy_score(y_train, y_pred_train)\n",
    "    precision = mt.precision_score(y_train, y_pred_train)\n",
    "    recall = mt.recall_score(y_train, y_pred_train)\n",
    "    f1 = mt.f1_score(y_train, y_pred_train)\n",
    "    if recall > best_recall:\n",
    "        best_recall = recall\n",
    "        best_k_recall = k\n",
    "    if precision > best_pr:\n",
    "        best_pr = precision\n",
    "        best_k_precision = k\n",
    "    if f1 > best_f1:\n",
    "        best_f1 = f1\n",
    "        best_k_f1 = k\n",
    "    if acc > best_acc:\n",
    "        best_acc = acc\n",
    "        best_k_acc = k\n",
    "    #print(f'Melhor threshold para precision = recall de: {best_th:.2f}')\n",
    "print(f'acurácia: {best_acc:.3f} com k = {best_k_acc:.2f}')\n",
    "print(f'precision: {best_pr:.3f} com k = {best_k_precision:.2f}')\n",
    "print(f'recall: {best_recall:.3f} com k = {best_k_recall:.2f}')\n",
    "print(f'f1-score: {best_f1:.3f} com k = {best_k_f1:.2f}')"
   ]
  },
  {
   "cell_type": "code",
   "execution_count": 24,
   "metadata": {},
   "outputs": [
    {
     "name": "stdout",
     "output_type": "stream",
     "text": [
      "Melhor threshold para precision = recall de: 1.00\n",
      "acurácia: 1.000\n",
      "precision: 1.000\n",
      "recall: 1.000\n",
      "f1-score: 1.000\n"
     ]
    }
   ],
   "source": [
    "# model\n",
    "k = 32\n",
    "tree_model = tr.DecisionTreeClassifier(max_depth = k)\n",
    "\n",
    "# fit\n",
    "tree_model.fit(x_train, y_train)\n",
    "\n",
    "#predict\n",
    "y_pred_train = tree_model.predict_proba(x_train)[:,1]\n",
    "\n",
    "# Curva precision x recall para escolhe melhor threshold\n",
    "precision, recall, thresholds = mt.precision_recall_curve(y_train, y_pred_train)\n",
    "\n",
    "distances = np.abs(recall-precision) # Em que precision = recall\n",
    "best_th = thresholds[np.argmin(distances)]\n",
    "y_pred_train = (y_pred_train >= best_th).astype(int)\n",
    "print(f'Melhor threshold para precision = recall de: {best_th:.2f}')\n",
    "acc = mt.accuracy_score(y_train, y_pred_train)\n",
    "precision = mt.precision_score(y_train, y_pred_train)\n",
    "recall = mt.recall_score(y_train, y_pred_train)\n",
    "f1 = mt.f1_score(y_train, y_pred_train)\n",
    "print(f'acurácia: {acc:.3f}')\n",
    "print(f'precision: {precision:.3f}')\n",
    "print(f'recall: {recall:.3f}')\n",
    "print(f'f1-score: {f1:.3f}')"
   ]
  },
  {
   "cell_type": "markdown",
   "metadata": {},
   "source": [
    "### Validation dataset"
   ]
  },
  {
   "cell_type": "code",
   "execution_count": 26,
   "metadata": {},
   "outputs": [
    {
     "name": "stdout",
     "output_type": "stream",
     "text": [
      "acurácia: 0.952 com k = 13.00\n",
      "precision: 0.947 com k = 13.00\n",
      "recall: 0.944 com k = 14.00\n",
      "f1-score: 0.945 com k = 13.00\n"
     ]
    }
   ],
   "source": [
    "# fine tuning\n",
    "\n",
    "best_recall_val = 0\n",
    "best_pr_val = 0\n",
    "best_f1_val = 0\n",
    "best_acc_val = 0\n",
    "best_k_val = 0\n",
    "best_k_f1 = 0\n",
    "best_k_recall = 0\n",
    "best_k_precission = 0\n",
    "best_k_acc = 0\n",
    "    \n",
    "for k in range(2,40,1):\n",
    "    # model\n",
    "    tree_model = tr.DecisionTreeClassifier(max_depth = k)\n",
    "\n",
    "    # fit\n",
    "    tree_model.fit(x_train, y_train)\n",
    "\n",
    "    #predict\n",
    "    y_pred_val = tree_model.predict_proba(x_val)[:,1]\n",
    "    precision_val, recall_val, thresholds_val = mt.precision_recall_curve(y_val, y_pred_val)\n",
    "    distances = np.abs(recall_val-precision_val) # Em que precision = recall\n",
    "    best_th_val = thresholds_val[np.argmin(distances)]\n",
    "    y_pred_val = (y_pred_val >= best_th_val).astype(int)\n",
    "    acc_val = mt.accuracy_score(y_val, y_pred_val)\n",
    "    precision_val = mt.precision_score(y_val, y_pred_val)\n",
    "    recall_val = mt.recall_score(y_val, y_pred_val)\n",
    "    f1_val = mt.f1_score(y_val, y_pred_val)\n",
    "    if recall_val > best_recall_val:\n",
    "        best_recall_val = recall_val\n",
    "        best_k_recall = k\n",
    "    if precision_val > best_pr_val:\n",
    "        best_pr_val = precision_val\n",
    "        best_k_precision = k\n",
    "    if f1_val > best_f1_val:\n",
    "        best_f1_val = f1_val\n",
    "        best_k_f1 = k\n",
    "    if acc_val > best_acc_val:\n",
    "        best_acc_val = acc_val\n",
    "        best_k_acc = k\n",
    "    #print(f'Melhor threshold para precision = recall de: {best_th:.2f}')\n",
    "print(f'acurácia: {best_acc_val:.3f} com k = {best_k_acc:.2f}')\n",
    "print(f'precision: {best_pr_val:.3f} com k = {best_k_precision:.2f}')\n",
    "print(f'recall: {best_recall_val:.3f} com k = {best_k_recall:.2f}')\n",
    "print(f'f1-score: {best_f1_val:.3f} com k = {best_k_f1:.2f}')"
   ]
  },
  {
   "cell_type": "code",
   "execution_count": 28,
   "metadata": {},
   "outputs": [
    {
     "name": "stdout",
     "output_type": "stream",
     "text": [
      "Melhor threshold para precision = recall de: 0.36\n",
      "acurácia: 0.952\n",
      "precision: 0.947\n",
      "recall: 0.942\n",
      "f1-score: 0.944\n"
     ]
    }
   ],
   "source": [
    "# model\n",
    "m = 13\n",
    "tree_model = tr.DecisionTreeClassifier(max_depth = m)\n",
    "\n",
    "# fit\n",
    "tree_model.fit(x_train, y_train)\n",
    "\n",
    "#predict\n",
    "y_pred_val = tree_model.predict_proba(x_val)[:,1]\n",
    "\n",
    "# Curva precision x recall para escolhe melhor threshold\n",
    "precision_val, recall_val, thresholds_val = mt.precision_recall_curve(y_val, y_pred_val)\n",
    "\n",
    "distances_val = np.abs(recall_val-precision_val) # Em que precision = recall\n",
    "best_th_val = thresholds_val[np.argmin(distances_val)]\n",
    "y_pred_val = (y_pred_val >= best_th_val).astype(int)\n",
    "print(f'Melhor threshold para precision = recall de: {best_th_val:.2f}')\n",
    "acc_val = mt.accuracy_score(y_val, y_pred_val)\n",
    "precision_val = mt.precision_score(y_val, y_pred_val)\n",
    "recall_val = mt.recall_score(y_val, y_pred_val)\n",
    "f1_val = mt.f1_score(y_val, y_pred_val)\n",
    "print(f'acurácia: {acc_val:.3f}')\n",
    "print(f'precision: {precision_val:.3f}')\n",
    "print(f'recall: {recall_val:.3f}')\n",
    "print(f'f1-score: {f1_val:.3f}')\n"
   ]
  },
  {
   "cell_type": "markdown",
   "metadata": {},
   "source": [
    "### Test dataset"
   ]
  },
  {
   "cell_type": "code",
   "execution_count": 29,
   "metadata": {},
   "outputs": [
    {
     "name": "stderr",
     "output_type": "stream",
     "text": [
      "/home/christianods/.pyenv/versions/3.10.13/envs/pa_env/lib/python3.10/site-packages/sklearn/base.py:486: UserWarning: X has feature names, but DecisionTreeClassifier was fitted without feature names\n",
      "  warnings.warn(\n",
      "/home/christianods/.pyenv/versions/3.10.13/envs/pa_env/lib/python3.10/site-packages/sklearn/base.py:486: UserWarning: X has feature names, but DecisionTreeClassifier was fitted without feature names\n",
      "  warnings.warn(\n",
      "/home/christianods/.pyenv/versions/3.10.13/envs/pa_env/lib/python3.10/site-packages/sklearn/base.py:486: UserWarning: X has feature names, but DecisionTreeClassifier was fitted without feature names\n",
      "  warnings.warn(\n",
      "/home/christianods/.pyenv/versions/3.10.13/envs/pa_env/lib/python3.10/site-packages/sklearn/base.py:486: UserWarning: X has feature names, but DecisionTreeClassifier was fitted without feature names\n",
      "  warnings.warn(\n",
      "/home/christianods/.pyenv/versions/3.10.13/envs/pa_env/lib/python3.10/site-packages/sklearn/base.py:486: UserWarning: X has feature names, but DecisionTreeClassifier was fitted without feature names\n",
      "  warnings.warn(\n",
      "/home/christianods/.pyenv/versions/3.10.13/envs/pa_env/lib/python3.10/site-packages/sklearn/base.py:486: UserWarning: X has feature names, but DecisionTreeClassifier was fitted without feature names\n",
      "  warnings.warn(\n",
      "/home/christianods/.pyenv/versions/3.10.13/envs/pa_env/lib/python3.10/site-packages/sklearn/base.py:486: UserWarning: X has feature names, but DecisionTreeClassifier was fitted without feature names\n",
      "  warnings.warn(\n",
      "/home/christianods/.pyenv/versions/3.10.13/envs/pa_env/lib/python3.10/site-packages/sklearn/base.py:486: UserWarning: X has feature names, but DecisionTreeClassifier was fitted without feature names\n",
      "  warnings.warn(\n",
      "/home/christianods/.pyenv/versions/3.10.13/envs/pa_env/lib/python3.10/site-packages/sklearn/base.py:486: UserWarning: X has feature names, but DecisionTreeClassifier was fitted without feature names\n",
      "  warnings.warn(\n",
      "/home/christianods/.pyenv/versions/3.10.13/envs/pa_env/lib/python3.10/site-packages/sklearn/base.py:486: UserWarning: X has feature names, but DecisionTreeClassifier was fitted without feature names\n",
      "  warnings.warn(\n",
      "/home/christianods/.pyenv/versions/3.10.13/envs/pa_env/lib/python3.10/site-packages/sklearn/base.py:486: UserWarning: X has feature names, but DecisionTreeClassifier was fitted without feature names\n",
      "  warnings.warn(\n",
      "/home/christianods/.pyenv/versions/3.10.13/envs/pa_env/lib/python3.10/site-packages/sklearn/base.py:486: UserWarning: X has feature names, but DecisionTreeClassifier was fitted without feature names\n",
      "  warnings.warn(\n",
      "/home/christianods/.pyenv/versions/3.10.13/envs/pa_env/lib/python3.10/site-packages/sklearn/base.py:486: UserWarning: X has feature names, but DecisionTreeClassifier was fitted without feature names\n",
      "  warnings.warn(\n",
      "/home/christianods/.pyenv/versions/3.10.13/envs/pa_env/lib/python3.10/site-packages/sklearn/base.py:486: UserWarning: X has feature names, but DecisionTreeClassifier was fitted without feature names\n",
      "  warnings.warn(\n",
      "/home/christianods/.pyenv/versions/3.10.13/envs/pa_env/lib/python3.10/site-packages/sklearn/base.py:486: UserWarning: X has feature names, but DecisionTreeClassifier was fitted without feature names\n",
      "  warnings.warn(\n",
      "/home/christianods/.pyenv/versions/3.10.13/envs/pa_env/lib/python3.10/site-packages/sklearn/base.py:486: UserWarning: X has feature names, but DecisionTreeClassifier was fitted without feature names\n",
      "  warnings.warn(\n",
      "/home/christianods/.pyenv/versions/3.10.13/envs/pa_env/lib/python3.10/site-packages/sklearn/base.py:486: UserWarning: X has feature names, but DecisionTreeClassifier was fitted without feature names\n",
      "  warnings.warn(\n",
      "/home/christianods/.pyenv/versions/3.10.13/envs/pa_env/lib/python3.10/site-packages/sklearn/base.py:486: UserWarning: X has feature names, but DecisionTreeClassifier was fitted without feature names\n",
      "  warnings.warn(\n",
      "/home/christianods/.pyenv/versions/3.10.13/envs/pa_env/lib/python3.10/site-packages/sklearn/base.py:486: UserWarning: X has feature names, but DecisionTreeClassifier was fitted without feature names\n",
      "  warnings.warn(\n",
      "/home/christianods/.pyenv/versions/3.10.13/envs/pa_env/lib/python3.10/site-packages/sklearn/base.py:486: UserWarning: X has feature names, but DecisionTreeClassifier was fitted without feature names\n",
      "  warnings.warn(\n",
      "/home/christianods/.pyenv/versions/3.10.13/envs/pa_env/lib/python3.10/site-packages/sklearn/base.py:486: UserWarning: X has feature names, but DecisionTreeClassifier was fitted without feature names\n",
      "  warnings.warn(\n",
      "/home/christianods/.pyenv/versions/3.10.13/envs/pa_env/lib/python3.10/site-packages/sklearn/base.py:486: UserWarning: X has feature names, but DecisionTreeClassifier was fitted without feature names\n",
      "  warnings.warn(\n",
      "/home/christianods/.pyenv/versions/3.10.13/envs/pa_env/lib/python3.10/site-packages/sklearn/base.py:486: UserWarning: X has feature names, but DecisionTreeClassifier was fitted without feature names\n",
      "  warnings.warn(\n",
      "/home/christianods/.pyenv/versions/3.10.13/envs/pa_env/lib/python3.10/site-packages/sklearn/base.py:486: UserWarning: X has feature names, but DecisionTreeClassifier was fitted without feature names\n",
      "  warnings.warn(\n",
      "/home/christianods/.pyenv/versions/3.10.13/envs/pa_env/lib/python3.10/site-packages/sklearn/base.py:486: UserWarning: X has feature names, but DecisionTreeClassifier was fitted without feature names\n",
      "  warnings.warn(\n",
      "/home/christianods/.pyenv/versions/3.10.13/envs/pa_env/lib/python3.10/site-packages/sklearn/base.py:486: UserWarning: X has feature names, but DecisionTreeClassifier was fitted without feature names\n",
      "  warnings.warn(\n",
      "/home/christianods/.pyenv/versions/3.10.13/envs/pa_env/lib/python3.10/site-packages/sklearn/base.py:486: UserWarning: X has feature names, but DecisionTreeClassifier was fitted without feature names\n",
      "  warnings.warn(\n",
      "/home/christianods/.pyenv/versions/3.10.13/envs/pa_env/lib/python3.10/site-packages/sklearn/base.py:486: UserWarning: X has feature names, but DecisionTreeClassifier was fitted without feature names\n",
      "  warnings.warn(\n",
      "/home/christianods/.pyenv/versions/3.10.13/envs/pa_env/lib/python3.10/site-packages/sklearn/base.py:486: UserWarning: X has feature names, but DecisionTreeClassifier was fitted without feature names\n",
      "  warnings.warn(\n",
      "/home/christianods/.pyenv/versions/3.10.13/envs/pa_env/lib/python3.10/site-packages/sklearn/base.py:486: UserWarning: X has feature names, but DecisionTreeClassifier was fitted without feature names\n",
      "  warnings.warn(\n",
      "/home/christianods/.pyenv/versions/3.10.13/envs/pa_env/lib/python3.10/site-packages/sklearn/base.py:486: UserWarning: X has feature names, but DecisionTreeClassifier was fitted without feature names\n",
      "  warnings.warn(\n",
      "/home/christianods/.pyenv/versions/3.10.13/envs/pa_env/lib/python3.10/site-packages/sklearn/base.py:486: UserWarning: X has feature names, but DecisionTreeClassifier was fitted without feature names\n",
      "  warnings.warn(\n",
      "/home/christianods/.pyenv/versions/3.10.13/envs/pa_env/lib/python3.10/site-packages/sklearn/base.py:486: UserWarning: X has feature names, but DecisionTreeClassifier was fitted without feature names\n",
      "  warnings.warn(\n",
      "/home/christianods/.pyenv/versions/3.10.13/envs/pa_env/lib/python3.10/site-packages/sklearn/base.py:486: UserWarning: X has feature names, but DecisionTreeClassifier was fitted without feature names\n",
      "  warnings.warn(\n",
      "/home/christianods/.pyenv/versions/3.10.13/envs/pa_env/lib/python3.10/site-packages/sklearn/base.py:486: UserWarning: X has feature names, but DecisionTreeClassifier was fitted without feature names\n",
      "  warnings.warn(\n",
      "/home/christianods/.pyenv/versions/3.10.13/envs/pa_env/lib/python3.10/site-packages/sklearn/base.py:486: UserWarning: X has feature names, but DecisionTreeClassifier was fitted without feature names\n",
      "  warnings.warn(\n",
      "/home/christianods/.pyenv/versions/3.10.13/envs/pa_env/lib/python3.10/site-packages/sklearn/base.py:486: UserWarning: X has feature names, but DecisionTreeClassifier was fitted without feature names\n",
      "  warnings.warn(\n"
     ]
    },
    {
     "name": "stdout",
     "output_type": "stream",
     "text": [
      "acurácia: 0.955 com k = 14.00\n",
      "precision: 0.949 com k = 14.00\n",
      "recall: 0.949 com k = 14.00\n",
      "f1-score: 0.949 com k = 14.00\n"
     ]
    },
    {
     "name": "stderr",
     "output_type": "stream",
     "text": [
      "/home/christianods/.pyenv/versions/3.10.13/envs/pa_env/lib/python3.10/site-packages/sklearn/base.py:486: UserWarning: X has feature names, but DecisionTreeClassifier was fitted without feature names\n",
      "  warnings.warn(\n"
     ]
    }
   ],
   "source": [
    "# fine tuning\n",
    "\n",
    "best_recall_test = 0\n",
    "best_pr_test = 0\n",
    "best_f1_test = 0\n",
    "best_acc_test = 0\n",
    "best_k_val = 0\n",
    "best_k_f1 = 0\n",
    "best_k_recall = 0\n",
    "best_k_precission = 0\n",
    "best_k_acc = 0\n",
    "\n",
    "for k in range(2,40):\n",
    "    # model\n",
    "    tree_model = tr.DecisionTreeClassifier(max_depth = k)\n",
    "\n",
    "    # fit\n",
    "    tree_model.fit(np.concatenate((x_train,x_val)),\n",
    "                  np.concatenate((y_train,y_val)))\n",
    "\n",
    "    #predict\n",
    "    y_pred_test = tree_model.predict_proba(x_test)[:,1]\n",
    "    precision_test, recall_test, thresholds_test = mt.precision_recall_curve(y_test, y_pred_test)\n",
    "    distances_test = np.abs(recall_test-precision_test) # Em que precision = recall\n",
    "    best_th_test = thresholds_test[np.argmin(distances_test)]\n",
    "    y_pred_test = (y_pred_test >= best_th_test).astype(int)\n",
    "    acc_test = mt.accuracy_score(y_test, y_pred_test)\n",
    "    precision_test = mt.precision_score(y_test, y_pred_test)\n",
    "    recall_test = mt.recall_score(y_test, y_pred_test)\n",
    "    f1_test = mt.f1_score(y_test, y_pred_test)\n",
    "    if recall_test > best_recall_test:\n",
    "        best_recall_test = recall_test\n",
    "        best_k_recall = k\n",
    "    if precision_test > best_pr_test:\n",
    "        best_pr_test = precision_test\n",
    "        best_k_precision = k\n",
    "    if f1_test > best_f1_test:\n",
    "        best_f1_test = f1_test\n",
    "        best_k_f1 = k\n",
    "    if acc_test > best_acc_test:\n",
    "        best_acc_test = acc_test\n",
    "        best_k_acc = k\n",
    "    #print(f'Melhor threshold para precision = recall de: {best_th:.2f}')\n",
    "print(f'acurácia: {best_acc_test:.3f} com k = {best_k_acc:.2f}')\n",
    "print(f'precision: {best_pr_test:.3f} com k = {best_k_precision:.2f}')\n",
    "print(f'recall: {best_recall_test:.3f} com k = {best_k_recall:.2f}')\n",
    "print(f'f1-score: {best_f1_test:.3f} com k = {best_k_f1:.2f}')"
   ]
  },
  {
   "cell_type": "code",
   "execution_count": 30,
   "metadata": {},
   "outputs": [
    {
     "name": "stdout",
     "output_type": "stream",
     "text": [
      "Melhor threshold para precision = recall de: 0.39\n",
      "acurácia: 0.954\n",
      "precision: 0.948\n",
      "recall: 0.948\n",
      "f1-score: 0.948\n"
     ]
    },
    {
     "name": "stderr",
     "output_type": "stream",
     "text": [
      "/home/christianods/.pyenv/versions/3.10.13/envs/pa_env/lib/python3.10/site-packages/sklearn/base.py:486: UserWarning: X has feature names, but DecisionTreeClassifier was fitted without feature names\n",
      "  warnings.warn(\n"
     ]
    }
   ],
   "source": [
    "# model\n",
    "k = 14\n",
    "# model\n",
    "tree_model = tr.DecisionTreeClassifier(max_depth = k)\n",
    "# fit\n",
    "tree_model.fit(np.concatenate((x_train,x_val)),\n",
    "              np.concatenate((y_train,y_val)))\n",
    "\n",
    "#predict\n",
    "y_pred_test = tree_model.predict_proba(x_test)[:,1]\n",
    "\n",
    "# Curva precision x recall para escolhe melhor threshold\n",
    "precision_test, recall_test, thresholds_test = mt.precision_recall_curve(y_test, y_pred_test)\n",
    "distances_test = np.abs(recall_test-precision_test) # Em que precision = recall\n",
    "best_th_test = thresholds_test[np.argmin(distances_test)]\n",
    "y_pred_test = (y_pred_test >= best_th_test).astype(int)\n",
    "acc_test = mt.accuracy_score(y_test, y_pred_test)\n",
    "precision_test = mt.precision_score(y_test, y_pred_test)\n",
    "recall_test = mt.recall_score(y_test, y_pred_test)\n",
    "f1_test = mt.f1_score(y_test, y_pred_test)\n",
    "#print(f'Melhor threshold para precision = recall de: {best_th_test:.2f}')\n",
    "print(f'acurácia: {acc_test:.3f}')\n",
    "print(f'precision: {precision_test:.3f}')\n",
    "print(f'recall: {recall_test:.3f}')\n",
    "print(f'f1-score: {f1_test:.3f}')"
   ]
  }
 ],
 "metadata": {
  "kernelspec": {
   "display_name": "pa_env",
   "language": "python",
   "name": "python3"
  },
  "language_info": {
   "codemirror_mode": {
    "name": "ipython",
    "version": 3
   },
   "file_extension": ".py",
   "mimetype": "text/x-python",
   "name": "python",
   "nbconvert_exporter": "python",
   "pygments_lexer": "ipython3",
   "version": "3.10.13"
  }
 },
 "nbformat": 4,
 "nbformat_minor": 2
}

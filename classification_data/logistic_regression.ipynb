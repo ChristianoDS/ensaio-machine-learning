{
 "cells": [
  {
   "cell_type": "markdown",
   "metadata": {},
   "source": [
    "# Logistic Regression"
   ]
  },
  {
   "cell_type": "markdown",
   "metadata": {},
   "source": [
    "## Imports"
   ]
  },
  {
   "cell_type": "code",
   "execution_count": 2,
   "metadata": {},
   "outputs": [],
   "source": [
    "import pandas as pd\n",
    "from matplotlib import pyplot as plt\n",
    "from sklearn import metrics as mt\n",
    "from sklearn import linear_model as lm\n",
    "import numpy as np\n"
   ]
  },
  {
   "cell_type": "markdown",
   "metadata": {},
   "source": [
    "## Load datasets"
   ]
  },
  {
   "cell_type": "code",
   "execution_count": 3,
   "metadata": {},
   "outputs": [],
   "source": [
    "x_train = pd.read_csv('./X_training.csv')\n",
    "x_test = pd.read_csv('./X_test.csv')\n",
    "x_val = pd.read_csv('./X_validation.csv')\n",
    "y_train = pd.read_csv('./y_training.csv')\n",
    "y_test = pd.read_csv('./y_test.csv')\n",
    "y_val = pd.read_csv('./y_validation.csv')\n"
   ]
  },
  {
   "cell_type": "markdown",
   "metadata": {},
   "source": [
    "## Model training"
   ]
  },
  {
   "cell_type": "markdown",
   "metadata": {},
   "source": [
    "### training dataset"
   ]
  },
  {
   "cell_type": "code",
   "execution_count": 13,
   "metadata": {},
   "outputs": [
    {
     "name": "stderr",
     "output_type": "stream",
     "text": [
      "/home/christianods/.pyenv/versions/3.10.13/envs/pa_env/lib/python3.10/site-packages/sklearn/utils/validation.py:1300: DataConversionWarning: A column-vector y was passed when a 1d array was expected. Please change the shape of y to (n_samples, ), for example using ravel().\n",
      "  y = column_or_1d(y, warn=True)\n"
     ]
    },
    {
     "name": "stdout",
     "output_type": "stream",
     "text": [
      "acurácia: 0.807\n",
      "precision: 0.778\n",
      "recall: 0.778\n",
      "f1-score: 0.778\n"
     ]
    }
   ],
   "source": [
    "# model\n",
    "\n",
    "logistic_model = lm.LogisticRegression(solver= 'liblinear')\n",
    "\n",
    "# fit\n",
    "logistic_model.fit(x_train, y_train)\n",
    "\n",
    "#predict\n",
    "y_pred_train = logistic_model.predict_proba(x_train)[:,1]\n",
    "\n",
    "# Curva precision x recall para escolhe melhor threshold\n",
    "precision, recall, thresholds = mt.precision_recall_curve(y_train, y_pred_train)\n",
    "\n",
    "distances = np.abs(recall-precision) # Em que precision = recall\n",
    "best_th = thresholds[np.argmin(distances)]\n",
    "y_pred_train = (y_pred_train >= best_th).astype(int)\n",
    "#print(f'Melhor threshold para precision = recall de: {best_th:.2f}')\n",
    "acc = mt.accuracy_score(y_train, y_pred_train)\n",
    "precision = mt.precision_score(y_train, y_pred_train)\n",
    "recall = mt.recall_score(y_train, y_pred_train)\n",
    "f1 = mt.f1_score(y_train, y_pred_train)\n",
    "print(f'acurácia: {acc:.3f}')\n",
    "print(f'precision: {precision:.3f}')\n",
    "print(f'recall: {recall:.3f}')\n",
    "print(f'f1-score: {f1:.3f}')"
   ]
  },
  {
   "cell_type": "markdown",
   "metadata": {},
   "source": [
    "### Validation dataset"
   ]
  },
  {
   "cell_type": "code",
   "execution_count": 28,
   "metadata": {},
   "outputs": [
    {
     "name": "stderr",
     "output_type": "stream",
     "text": [
      "/home/christianods/.pyenv/versions/3.10.13/envs/pa_env/lib/python3.10/site-packages/sklearn/utils/validation.py:1300: DataConversionWarning: A column-vector y was passed when a 1d array was expected. Please change the shape of y to (n_samples, ), for example using ravel().\n",
      "  y = column_or_1d(y, warn=True)\n"
     ]
    },
    {
     "name": "stdout",
     "output_type": "stream",
     "text": [
      "Melhor threshold para precision = recall de: 0.45\n",
      "acurácia: 0.872\n",
      "precision: 0.852\n",
      "recall: 0.852\n",
      "f1-score: 0.852\n"
     ]
    }
   ],
   "source": [
    "# model\n",
    "\n",
    "logistic_model = lm.LogisticRegression(max_iter=5000)\n",
    "\n",
    "# fit\n",
    "logistic_model.fit(x_train, y_train)\n",
    "\n",
    "#predict\n",
    "y_pred_val = logistic_model.predict_proba(x_val)[:,1]\n",
    "\n",
    "# Curva precision x recall para escolhe melhor threshold\n",
    "precision_val, recall_val, thresholds_val = mt.precision_recall_curve(y_val, y_pred_val)\n",
    "\n",
    "distances_val = np.abs(recall_val-precision_val) # Em que precision = recall\n",
    "best_th_val = thresholds_val[np.argmin(distances_val)]\n",
    "y_pred_val = (y_pred_val >= best_th_val).astype(int)\n",
    "print(f'Melhor threshold para precision = recall de: {best_th_val:.2f}')\n",
    "acc_val = mt.accuracy_score(y_val, y_pred_val)\n",
    "precision_val = mt.precision_score(y_val, y_pred_val)\n",
    "recall_val = mt.recall_score(y_val, y_pred_val)\n",
    "f1_val = mt.f1_score(y_val, y_pred_val)\n",
    "print(f'acurácia: {acc_val:.3f}')\n",
    "print(f'precision: {precision_val:.3f}')\n",
    "print(f'recall: {recall_val:.3f}')\n",
    "print(f'f1-score: {f1_val:.3f}')\n"
   ]
  },
  {
   "cell_type": "markdown",
   "metadata": {},
   "source": [
    "### Test dataset"
   ]
  },
  {
   "cell_type": "code",
   "execution_count": 27,
   "metadata": {},
   "outputs": [
    {
     "name": "stderr",
     "output_type": "stream",
     "text": [
      "/home/christianods/.pyenv/versions/3.10.13/envs/pa_env/lib/python3.10/site-packages/sklearn/utils/validation.py:1300: DataConversionWarning: A column-vector y was passed when a 1d array was expected. Please change the shape of y to (n_samples, ), for example using ravel().\n",
      "  y = column_or_1d(y, warn=True)\n"
     ]
    },
    {
     "name": "stdout",
     "output_type": "stream",
     "text": [
      "acurácia: 0.869\n",
      "precision: 0.851\n",
      "recall: 0.851\n",
      "f1-score: 0.851\n"
     ]
    },
    {
     "name": "stderr",
     "output_type": "stream",
     "text": [
      "/home/christianods/.pyenv/versions/3.10.13/envs/pa_env/lib/python3.10/site-packages/sklearn/base.py:486: UserWarning: X has feature names, but LogisticRegression was fitted without feature names\n",
      "  warnings.warn(\n"
     ]
    }
   ],
   "source": [
    "# model\n",
    "logistic_model = lm.LogisticRegression(max_iter= 5000)\n",
    "# fit\n",
    "logistic_model.fit(np.concatenate((x_train,x_val)),\n",
    "              np.concatenate((y_train,y_val)))\n",
    "\n",
    "#predict\n",
    "y_pred_test = logistic_model.predict_proba(x_test)[:,1]\n",
    "#y_pred_test = logistic_model.predict(x_test)\n",
    "\n",
    "# Curva precision x recall para escolhe melhor threshold\n",
    "precision_test, recall_test, thresholds_test = mt.precision_recall_curve(y_test, y_pred_test)\n",
    "distances_test = np.abs(recall_test-precision_test) # Em que precision = recall\n",
    "best_th_test = thresholds_test[np.argmin(distances_test)]\n",
    "y_pred_test = (y_pred_test >= best_th_test).astype(int)\n",
    "acc_test = mt.accuracy_score(y_test, y_pred_test)\n",
    "precision_test = mt.precision_score(y_test, y_pred_test)\n",
    "recall_test = mt.recall_score(y_test, y_pred_test)\n",
    "f1_test = mt.f1_score(y_test, y_pred_test)\n",
    "#print(f'Melhor threshold para precision = recall de: {best_th_test:.2f}')\n",
    "print(f'acurácia: {acc_test:.3f}')\n",
    "print(f'precision: {precision_test:.3f}')\n",
    "print(f'recall: {recall_test:.3f}')\n",
    "print(f'f1-score: {f1_test:.3f}')"
   ]
  }
 ],
 "metadata": {
  "kernelspec": {
   "display_name": "pa_env",
   "language": "python",
   "name": "python3"
  },
  "language_info": {
   "codemirror_mode": {
    "name": "ipython",
    "version": 3
   },
   "file_extension": ".py",
   "mimetype": "text/x-python",
   "name": "python",
   "nbconvert_exporter": "python",
   "pygments_lexer": "ipython3",
   "version": "3.10.13"
  }
 },
 "nbformat": 4,
 "nbformat_minor": 2
}
